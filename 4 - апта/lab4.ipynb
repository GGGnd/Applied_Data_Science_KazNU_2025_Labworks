{
 "cells": [
  {
   "cell_type": "markdown",
   "metadata": {
    "id": "xHFnZTld6M1j"
   },
   "source": [
    "# Logistic Regression\n",
    "\n",
    "Бұл жаттығуда сіз логистикалық регрессияны жүзеге асырасыз және оны екі түрлі деректер жиынына қолданасыз.\n"
   ]
  },
  {
   "cell_type": "markdown",
   "metadata": {
    "id": "ml2bpD_c6M1n"
   },
   "source": [
    "<a name=\"1\"></a>\n",
    "## 1 - Packages\n",
    "\n",
    "Алдымен, осы тапсырма кезінде қажет болатын барлық бумаларды импорттау үшін төмендегі ұяшықты іске қосайық.\n",
    "- [numpy](www.numpy.org) — Python көмегімен ғылыми есептеулерге арналған іргелі пакет.\n",
    "- [matplotlib](http://matplotlib.org) — Python тілінде графиктерді салуға арналған әйгілі кітапхана.\n",
    "- ``utils.py`` бұл тапсырма үшін көмекші функцияларды қамтиды. Бұл файлдағы кодты өзгерту қажет емес."
   ]
  },
  {
   "cell_type": "code",
   "execution_count": 1,
   "metadata": {
    "id": "RW0wCiPK6M1o",
    "tags": []
   },
   "outputs": [],
   "source": [
    "import numpy as np\n",
    "import matplotlib.pyplot as plt\n",
    "from utils import *\n",
    "import copy\n",
    "import math\n",
    "\n",
    "%matplotlib inline"
   ]
  },
  {
   "cell_type": "markdown",
   "metadata": {
    "id": "ru0-Beb16M1p"
   },
   "source": [
    "<a name=\"2\"></a>\n",
    "## 2 - Logistic Regression\n",
    "\n",
    "Жаттығудың осы бөлігінде студенттің университетке түсу-қабылдамауын болжау үшін логистикалық регрессия үлгісін құрасыз.\n",
    "\n",
    "<a name=\"2.1\"></a>\n",
    "### 2.1 Мәселе туралы мәлімдеме\n",
    "\n",
    "Сіз университет бөлімінің әкімшісісіз делік және сіз әрбір талапкердің екі емтихандағы нәтижелеріне қарай оқуға түсу мүмкіндігін анықтағыңыз келеді делік.\n",
    "* Сізде логистикалық регрессия үшін оқу жинағы ретінде пайдалануға болатын алдыңғы үміткерлердің тарихи деректері бар.\n",
    "* Әрбір оқу үлгісі үшін сізде екі емтихандағы үміткердің ұпайлары және қабылдау туралы шешім бар.\n",
    "* Сіздің міндетіңіз – осы екі емтиханның ұпайлары негізінде үміткердің оқуға түсу ықтималдығын бағалайтын жіктеу үлгісін құру.\n",
    "\n",
    "<a name=\"2.2\"></a>\n",
    "### 2.2 Деректерді жүктеу және визуализациялау\n",
    "\n",
    "\n",
    "-  `load_dataset()` көрсетілген функция деректерді айнымалыларға жүктейді\n",
    "\n",
    " `X_train` and `y_train`\n",
    "  - `X_train` студентке арналған екі емтихан бойынша емтихан ұпайларын қамтиды\n",
    "  - `y_train` қабылдау туралы шешім болып табылады\n",
    "      - `y_train = 1` егер студент қабылданған болса\n",
    "      - `y_train = 0` егер студент қабылданбаған болса\n",
    "  -  `X_train` and `y_train` сандық массивтер болып табылады.\n"
   ]
  },
  {
   "cell_type": "code",
   "execution_count": 2,
   "metadata": {
    "id": "4aN7u4Y56M1p",
    "tags": []
   },
   "outputs": [],
   "source": [
    "# деректер жинағын жүктеңіз\n",
    "X_train, y_train = load_data(\"scores.txt\")"
   ]
  },
  {
   "cell_type": "markdown",
   "metadata": {
    "id": "DG7jKYSJ6M1s"
   },
   "source": [
    "#### Деректеріңізді визуализациялаңыз\n",
    "\n",
    "Кез келген оқыту алгоритмін енгізуді бастамас бұрын, мүмкін болса, деректерді визуализациялау әрқашан жақсы.\n",
    "- Төмендегі код 2D сызбасындағы деректерді көрсетеді (төменде көрсетілгендей), мұнда осьтер емтиханның екі ұпайы болып табылады, ал оң және теріс мысалдар әртүрлі маркерлермен көрсетіледі.\n",
    "- Бұл сюжетті құру үшін ``utils.py`` файлындағы көмекші функцияны қолданамыз.\n",
    "\n"
   ]
  },
  {
   "cell_type": "code",
   "execution_count": 3,
   "metadata": {
    "colab": {
     "base_uri": "https://localhost:8080/",
     "height": 449
    },
    "id": "niMqsq4O6M1s",
    "outputId": "4179565e-3379-4fb2-83c1-54d6544d870b",
    "tags": []
   },
   "outputs": [
    {
     "data": {
      "image/png": "[encoded data removed]",
      "text/plain": [
       "<Figure size 640x480 with 1 Axes>"
      ]
     },
     "metadata": {},
     "output_type": "display_data"
    }
   ],
   "source": [
    "# Сюжетті мысалдар\n",
    "plot_data(X_train, y_train[:], pos_label=\"қабылданған\", neg_label=\"қабылданбаған\")\n",
    "\n",
    "# Set the y-axis label\n",
    "plt.ylabel('Емтихан 2')\n",
    "# Set the x-axis label\n",
    "plt.xlabel('Емтихан 1')\n",
    "plt.legend(loc=\"upper right\")\n",
    "plt.show()"
   ]
  },
  {
   "cell_type": "markdown",
   "metadata": {
    "id": "99TfX1CO6M1s"
   },
   "source": [
    "Сіздің мақсатыңыз осы деректерге сәйкес келетін логистикалық регрессия үлгісін құру.\n",
    "- Бұл модельдің көмегімен сіз жаңа студенттің екі емтихандағы ұпайларына қарай қабылданатынын болжай аласыз."
   ]
  },
  {
   "cell_type": "markdown",
   "metadata": {
    "id": "ufNKAa1t6M1s"
   },
   "source": [
    "### 2.3  Sigmoid function\n",
    "\n",
    "Еске салайық, логистикалық регрессия үшін модель ретінде ұсынылған:\n",
    "\n",
    "$$ f_{\\mathbf{w},b}(x) = g(\\mathbf{w}\\cdot \\mathbf{x} + b)$$\n",
    "мұндағы $g$ функциясы сигма тәрізді функция. Сигма тәрізді функция былай анықталады:\n",
    "\n",
    "$$g(z) = \\frac{1}{1+e^{-z}}$$\n",
    "\n",
    "Алдымен сигма тәрізді функцияны жүзеге асырайық, сондықтан оны осы тапсырманың қалған бөлігі пайдалана алады.\n",
    "\n",
    "<a name='ex-01'></a>\n",
    "### 1-тапсырма\n",
    "Есептеу үшін «сигмоид» функциясын орындаңыз\n",
    "\n",
    "$$g(z) = \\frac{1}{1+e^{-z}}$$\n",
    "\n",
    "Ескертіп қой\n",
    "- `z` әрқашан жалғыз сан емес, сонымен қатар сандар массиві болуы мүмкін.\n",
    "- Егер кіріс сандар массиві болса, біз сигма тәрізді функцияны кіріс массивіндегі әрбір мәнге қолданғымыз келеді.\n",
    "\n",
    "Кептеліп қалсаңыз, орындауға көмектесу үшін төмендегі ұяшықтан кейін берілген кеңестерді тексеруге болады."
   ]
  },
  {
   "cell_type": "code",
   "execution_count": 4,
   "metadata": {
    "id": "PWHM9t8m6M1t",
    "tags": []
   },
   "outputs": [],
   "source": [
    "import numpy as np\n",
    "\n",
    "def sigmoid(z):\n",
    "    \"\"\"\n",
    "    z-тің сигма тәрізді мәнін есептеу\n",
    "\n",
    "    Args:\n",
    "    z (ndarray or scalar): Кез келген өлшемдегі скаляр немесе сандық массив.\n",
    "\n",
    "    Қайтару:\n",
    "    g (ndarray or scalar): z мәнінің сигма тәрізді функциясы қолданылған нәтижесі.\n",
    "    \"\"\"\n",
    "    g = 1 / (1 + np.exp(-z))  # Сигма функциясының формуласы\n",
    "    return g\n"
   ]
  },
  {
   "cell_type": "markdown",
   "metadata": {
    "id": "62wxH58i6M1t"
   },
   "source": [
    "Аяқтаған кезде, төмендегі ұяшықтағы `sigmoid(x)` деп қоңырау шалу арқылы бірнеше мәндерді тексеріп көріңіз.\n",
    "- х-тің үлкен оң мәндері үшін сигма тәрізді 1-ге жақын болуы керек, ал үлкен теріс мәндер үшін сигма тәрізді 0-ге жақын болуы керек.\n",
    "- `sigmoid(0)` мәнін бағалау сізге дәл 0,5 береді."
   ]
  },
  {
   "cell_type": "code",
   "execution_count": 5,
   "metadata": {
    "colab": {
     "base_uri": "https://localhost:8080/"
    },
    "id": "kWdSL_kL6M1t",
    "outputId": "ba9b634f-433c-46f8-e18c-ff28ebbe88d2",
    "tags": []
   },
   "outputs": [
    {
     "name": "stdout",
     "output_type": "stream",
     "text": [
      "sigmoid(0) = 0.5\n"
     ]
    }
   ],
   "source": [
    "print (\"sigmoid(0) = \" + str(sigmoid(0)))"
   ]
  },
  {
   "cell_type": "markdown",
   "metadata": {
    "id": "6G-_PdGP6M1u"
   },
   "source": [
    "### 2.4 Логистикалық регрессияға арналған шығындар функциясы\n",
    "\n",
    "Бұл бөлімде логистикалық регрессия үшін шығындар функциясын орындайсыз.\n",
    "\n",
    "### 2-тапсырма\n",
    "\n",
    "Төмендегі теңдеулерді пайдаланып, 'compute_loss' функциясын аяқтаңыз.\n",
    "\n",
    "Естеріңізге сала кетейік, логистикалық регрессия үшін шығындар функциясы формада болады\n",
    "\n",
    "$$ J(\\mathbf{w},b) = \\frac{1}{m}\\sum_{i=0}^{m-1} \\left[ loss(f_{\\mathbf{w},b}(\\mathbf{x}^{(i)}), y^{(i)}) \\right] \\tag{1}$$\n",
    "\n",
    "where\n",
    "* m – деректер жиынындағы оқыту мысалдарының саны\n",
    "\n",
    "\n",
    "* $loss(f_{\\mathbf{w},b}(\\mathbf{x}^{(i)}), y^{(i)})$ бір деректер нүктесінің құны (loss) болып табылады, ол -\n",
    "\n",
    "    $$loss(f_{\\mathbf{w},b}(\\mathbf{x}^{(i)}), y^{(i)}) = (-y^{(i)} \\log\\left(f_{\\mathbf{w},b}\\left( \\mathbf{x}^{(i)} \\right) \\right) - \\left( 1 - y^{(i)}\\right) \\log \\left( 1 - f_{\\mathbf{w},b}\\left( \\mathbf{x}^{(i)} \\right) \\right) \\tag{2}$$\n",
    "    \n",
    "    \n",
    "*  $f_{\\mathbf{w},b}(\\mathbf{x}^{(i)})$ модельдің болжамы болып табылады, $y^{(i)}$, бұл нақты белгі\n",
    "\n",
    "*  $f_{\\mathbf{w},b}(\\mathbf{x}^{(i)}) = g(\\mathbf{w} \\cdot \\mathbf{x^{(i)}} + b)$ мұндағы $g$ функциясы сигма тәрізді функция.\n",
    "\n",
    "  Алдымен аралық айнымалыны есептеу пайдалы болуы мүмкін:\n",
    "  $$\n",
    "  z_{\\mathbf{w},b}(\\mathbf{x}^{(i)}) = \\mathbf{w} \\cdot \\mathbf{x}^{(i)} + b = w_0\\,x_0^{(i)} + \\cdots + w_{n-1}\\,x_{n-1}^{(i)} + b,\n",
    "  $$\n",
    "  мұндағы \\(n\\) - есептеу алдында мүмкіндіктер саны\n",
    "  $$\n",
    "  f_{\\mathbf{w},b}(\\mathbf{x}^{(i)}) = g\\Bigl(z_{\\mathbf{w},b}(\\mathbf{x}^{(i)})\\Bigr).\n",
    "  $$\n",
    "\n",
    "Ескерту:\n",
    "* Мұны істеп жатқанда, `X_train` және `y_train` айнымалылары скаляр мәндер емес, сәйкесінше пішін матрицалары ($m, n$) және ($𝑚$,1) екенін есте сақтаңыз, мұндағы $𝑛$ — мүмкіндіктер саны және $𝑚$ — жаттығу мысалдарының саны.\n",
    "* Осы бөлік үшін жоғарыда іске асырған сигма тәрізді функцияны пайдалануға болады.\n",
    "\n",
    "Кептеліп қалсаңыз, орындауға көмектесу үшін төмендегі ұяшықтан кейін берілген кеңестерді тексеруге болады."
   ]
  },
  {
   "cell_type": "code",
   "execution_count": 43,
   "metadata": {
    "id": "c0SV1O0a6M1v",
    "tags": []
   },
   "outputs": [],
   "source": [
    "import numpy as np\n",
    "\n",
    "def sigmoid(z):\n",
    "    return 1 / (1 + np.exp(-z))\n",
    "\n",
    "def compute_cost(X, y, w, b, lambda_=1):\n",
    "    m, n = X.shape  \n",
    "    cost = 0  \n",
    "    \n",
    "    for i in range(m):\n",
    "        z = np.dot(w.T, X[i].reshape(-1, 1)) + b  # `w.T` және `X[i]` өлшемдерін туралау\n",
    "        f_wb = sigmoid(z).item()  # (1,1) → скаляр түріне айналдыру\n",
    "        cost += -y[i] * np.log(f_wb) - (1 - y[i]) * np.log(1 - f_wb)  \n",
    "    \n",
    "    total_cost = cost / m  \n",
    "    return total_cost\n"
   ]
  },
  {
   "cell_type": "markdown",
   "metadata": {
    "id": "yY-LlPcU6M1v"
   },
   "source": [
    "$w$ параметрлерін екі түрлі инициализациялау арқылы 'compute_cost' функциясының орындалуын тексеру үшін төмендегі ұяшықтарды іске қосыңыз."
   ]
  },
  {
   "cell_type": "code",
   "execution_count": 44,
   "metadata": {
    "colab": {
     "base_uri": "https://localhost:8080/"
    },
    "id": "q5d26mEJ6M1v",
    "outputId": "decec1b5-70cb-4a55-d32c-7d9a636837b3",
    "tags": []
   },
   "outputs": [
    {
     "name": "stdout",
     "output_type": "stream",
     "text": [
      "Бастапқы құны (нөл): 0.693\n"
     ]
    }
   ],
   "source": [
    "m, n = X_train.shape\n",
    "\n",
    "# w нөлге дейін инициализацияланған құнын есептеу және көрсету\n",
    "initial_w = np.zeros(n)\n",
    "initial_b = 0.\n",
    "cost = compute_cost(X_train, y_train, initial_w, initial_b)\n",
    "print('Бастапқы құны (нөл): {:.3f}'.format(cost))"
   ]
  },
  {
   "cell_type": "markdown",
   "metadata": {
    "id": "7xm1Q9c96M1w"
   },
   "source": [
    "### 2.5 Логистикалық регрессия үшін градиент\n",
    "\n",
    "Осы бөлімде сіз логистикалық регрессия үшін градиентті жүзеге асырасыз.\n",
    "\n",
    "Градиенттік түсу алгоритмін еске түсірейік:\n",
    "\n",
    "$$\\begin{align*}\n",
    "& \\text{қатарласу орын алғанға дейін қайталау:} \\; \\lbrace \\newline\n",
    "\\; & b := b -  \\alpha \\frac{\\partial J(\\mathbf{w},b)}{\\partial b} \\newline       \n",
    "\\; & w_j := w_j -  \\alpha \\frac{\\partial J(\\mathbf{w},b)}{\\partial w_j} \\tag{1}  \n",
    "\\; & \\text{мұнда j := 0..n-1}\\newline\n",
    "& \\rbrace\n",
    "\\end{align*}$$\n",
    "\n",
    "мұнда, параметрлер $b$, $w_j$ барлығы бір уақытта жаңартылады."
   ]
  },
  {
   "cell_type": "markdown",
   "metadata": {
    "id": "jjmEDX2m6M1w"
   },
   "source": [
    "Міне, `compute_gradient` функциясы, ол төмендегі (2) және (3) теңдеулерінен $\\frac{\\partial J(\\mathbf{w},b)}{\\partial w}$ және $\\frac{\\partial J(\\mathbf{w},b)}{\\partial b}$ мәндерін есептейді.\n",
    "\n",
    "$$\n",
    "\\frac{\\partial J(\\mathbf{w},b)}{\\partial b}  = \\frac{1}{m} \\sum\\limits_{i = 0}^{m-1} (f_{\\mathbf{w},b}(\\mathbf{x}^{(i)}) - \\mathbf{y}^{(i)}) \\tag{2}\n",
    "$$\n",
    "$$\n",
    "\\frac{\\partial J(\\mathbf{w},b)}{\\partial w_j}  = \\frac{1}{m} \\sum\\limits_{i = 0}^{m-1} (f_{\\mathbf{w},b}(\\mathbf{x}^{(i)}) - \\mathbf{y}^{(i)})x_{j}^{(i)} \\tag{3}\n",
    "$$\n",
    "\n",
    "* \\(m\\) — деректер жиынтығындағы оқыту үлгілерінің саны\n",
    "\n",
    "* $$ f_{\\mathbf{w},b}(\\mathbf{x}^{(i)}) $$ — модельдің болжамы, ал $$ y^{(i)} $$ — нақты белгі (label).\n",
    "\n",
    "\n",
    "- **Ескерту**: Бұл градиент сызықтық регрессияның градиентіне ұқсас көрінгенімен, формула шын мәнінде әртүрлі, себебі сызықтық және логистикалық регрессиядағы $$ f_{\\mathbf{w},b}(\\mathbf{x}^{(i)}) $$ анықтамалары өзгеше."
   ]
  },
  {
   "cell_type": "code",
   "execution_count": 45,
   "metadata": {
    "id": "tXSP58eN6M1x",
    "tags": []
   },
   "outputs": [],
   "source": [
    "def compute_gradient(X, y, w, b, lambda_=None):\n",
    "    \"\"\"\n",
    "    Логистикалық регрессия үшін градиентті есептейді\n",
    "\n",
    "    Аргументтер:\n",
    "      X : (ndarray Өлшемі (m,n)) айнымалы, мысалы, үйдің ауданы\n",
    "      y : (array_like Өлшемі (m,1)) нақты мән (белгі)\n",
    "      w : (array_like Өлшемі (n,1)) модель параметрлерінің мәндері\n",
    "      b : (скаляр)                 модель параметрінің мәні\n",
    "      lambda_: пайдаланылмайтын параметр (орын сақтаушы).\n",
    "\n",
    "    Нәтиже:\n",
    "      dj_dw: (array_like Өлшемі (n,1)) w параметрлеріне қатысты шығынның градиенті.\n",
    "      dj_db: (скаляр)                 b параметріне қатысты шығынның градиенті.\n",
    "    \"\"\"\n",
    "    m, n = X.shape\n",
    "    dj_dw = np.zeros(w.shape)\n",
    "    dj_db = 0.\n",
    "\n",
    "    for i in range(m):\n",
    "        f_wb_i = sigmoid(np.dot(X[i],w) + b)  # Модельдің болжамы\n",
    "        err_i  = f_wb_i  - y[i]               # Қателік\n",
    "        for j in range(n):\n",
    "            dj_dw[j] = dj_dw[j] + err_i * X[i,j]  # w бойынша градиентті есептеу\n",
    "        dj_db = dj_db + err_i  # b бойынша градиентті есептеу\n",
    "\n",
    "    dj_dw = dj_dw/m  # Орташа мәнін есептеу\n",
    "    dj_db = dj_db/m\n",
    "\n",
    "\n",
    "    return dj_db, dj_dw\n"
   ]
  },
  {
   "cell_type": "markdown",
   "metadata": {
    "id": "i8OtCGm-6M1x"
   },
   "source": [
    "$w$ параметрлерінің екі түрлі инициализациясымен 'compute_gradient' функциясының орындалуын тексеру үшін төмендегі ұяшықтарды іске қосыңыз."
   ]
  },
  {
   "cell_type": "code",
   "execution_count": 46,
   "metadata": {
    "colab": {
     "base_uri": "https://localhost:8080/"
    },
    "id": "SJyvcFV56M1y",
    "outputId": "8ac3c123-2297-4cbf-db94-22eb4a301499",
    "tags": []
   },
   "outputs": [
    {
     "name": "stdout",
     "output_type": "stream",
     "text": [
      "dj_db бастапқы w (нөлдер):-0.1\n",
      "dj_dw бастапқы w (нөлдер):[-12.00921658929115, -11.262842205513591]\n"
     ]
    }
   ],
   "source": [
    "# w нөлге дейін инициализацияланған градиентті есептеңіз және көрсетіңіз\n",
    "initial_w = np.zeros(n)\n",
    "initial_b = 0.\n",
    "\n",
    "dj_db, dj_dw = compute_gradient(X_train, y_train, initial_w, initial_b)\n",
    "print(f'dj_db бастапқы w (нөлдер):{dj_db}' )\n",
    "print(f'dj_dw бастапқы w (нөлдер):{dj_dw.tolist()}' )"
   ]
  },
  {
   "cell_type": "markdown",
   "metadata": {
    "id": "RiDPf5aK6M1z"
   },
   "source": [
    "### 2.6 Градиенттің түсуі арқылы параметрлерді үйрену\n",
    "\n",
    "Алдыңғы тапсырмаға ұқсас, енді градиенттің түсуін пайдалану арқылы логистикалық регрессия үлгісінің оңтайлы параметрлерін табасыз.\n",
    "- Бұл бөлік үшін ештеңені жүзеге асырудың қажеті жоқ. Төмендегі ұяшықтарды жай ғана іске қосыңыз.\n",
    "\n",
    "- Градиент түсуінің дұрыс жұмыс істеп тұрғанын тексерудің жақсы жолы - қарау\n",
    "$J(\\mathbf{w},b)$ мәнінде және әр қадам сайын оның азаюын тексеріңіз.\n",
    "\n",
    "- Егер сіз градиентті енгізіп, шығынды дұрыс есептедіңіз деп есептесеңіз, сіздің $J(\\mathbf{w},b)$ мәні ешқашан өспеуі керек және алгоритмнің соңына қарай тұрақты мәнге жақындауы керек."
   ]
  },
  {
   "cell_type": "code",
   "execution_count": 47,
   "metadata": {
    "id": "uzaRVYGI6M1z",
    "tags": []
   },
   "outputs": [],
   "source": [
    "def gradient_descent(X, y, w_in, b_in, cost_function, gradient_function, alpha, num_iters, lambda_):\n",
    "    \"\"\"\n",
    "    Пакеттік градиентті түсу әдісі арқылы параметрлерді үйрену.\n",
    "    Параметрлерді жаңарту үшін num_iters рет градиенттік қадамдар жасайды,\n",
    "    оқыту жылдамдығы alpha арқылы реттеледі.\n",
    "\n",
    "    Аргументтер:\n",
    "      X :    (array_like Өлшемі (m, n))  Кіріс деректері (m үлгі, n ерекшелік)\n",
    "      y :    (array_like Өлшемі (m,))    Нақты мәндер (белгілер)\n",
    "      w_in : (array_like Өлшемі (n,))    Модель параметрлерінің бастапқы мәндері\n",
    "      b_in : (скаляр)                    Модельдің бастапқы ығысу (bias) мәні\n",
    "      cost_function:                      Шығынды есептеу функциясы\n",
    "      alpha : (float)                     Оқыту жылдамдығы\n",
    "      num_iters : (int)                    Градиентті түсу әдісінің қайталану саны\n",
    "      lambda_ (скаляр, float)              Регуляризация коэффициенті\n",
    "\n",
    "    Нәтиже:\n",
    "      w : (array_like Өлшемі (n,)) Градиентті түсу аяқталғаннан кейінгі жаңартылған параметр мәндері\n",
    "      b : (скаляр)                Градиентті түсу аяқталғаннан кейінгі жаңартылған ығысу мәні\n",
    "    \"\"\"\n",
    "\n",
    "    # Оқыту үлгілерінің саны\n",
    "    m = len(X)\n",
    "\n",
    "    # Әр итерациядағы шығын мәндерін және w параметрлерін сақтау үшін массивтер\n",
    "    J_history = []\n",
    "    w_history = []\n",
    "\n",
    "    for i in range(num_iters):\n",
    "\n",
    "        # Градиентті есептеу және параметрлерді жаңарту\n",
    "        dj_db, dj_dw = gradient_function(X, y, w_in, b_in, lambda_)\n",
    "\n",
    "        # Параметрлерді жаңарту (w, b, alpha және градиент арқылы)\n",
    "        w_in = w_in - alpha * dj_dw\n",
    "        b_in = b_in - alpha * dj_db\n",
    "\n",
    "        # Әр итерациядағы шығын мәнін сақтау\n",
    "        if i < 100000:  # Ресурстардың шамадан тыс пайдаланылуын болдырмау\n",
    "            cost = cost_function(X, y, w_in, b_in, lambda_)\n",
    "            J_history.append(cost)\n",
    "\n",
    "        # Әр 10%-да немесе соңғы итерацияда шығынды шығару\n",
    "        if i % math.ceil(num_iters / 10) == 0 or i == (num_iters - 1):\n",
    "            w_history.append(w_in)\n",
    "            print(f\"Итерация {i:4}: Шығын {float(J_history[-1]):8.2f}\")\n",
    "\n",
    "    return w_in, b_in, J_history, w_history  # w, J және w тарихын графикке түсіру үшін қайтарады\n"
   ]
  },
  {
   "cell_type": "markdown",
   "metadata": {
    "id": "q2UVi2o56M10"
   },
   "source": [
    "Енді деректер жиынының параметрлерін білу үшін жоғарыдағы градиентті түсіру алгоритмін іске қосайық.\n",
    "\n",
    "**Ескерту**\n",
    "\n",
    "Төмендегі код блогын іске қосу бірнеше минутты алады, әсіресе векторланбаған нұсқада. Жүзеге асыруды тексеру және тезірек қайталау үшін «итерацияларды» қысқартуға болады. Уақытыңыз болса, жақсы нәтижелерге қол жеткізу үшін 100 000 итерацияны орындап көріңіз."
   ]
  },
  {
   "cell_type": "code",
   "execution_count": null,
   "metadata": {
    "tags": []
   },
   "outputs": [],
   "source": []
  },
  {
   "cell_type": "code",
   "execution_count": null,
   "metadata": {
    "tags": []
   },
   "outputs": [],
   "source": []
  },
  {
   "cell_type": "code",
   "execution_count": 52,
   "metadata": {
    "colab": {
     "base_uri": "https://localhost:8080/"
    },
    "id": "EkCyUfI06M10",
    "outputId": "25da1482-533b-4a3b-dd04-42a9f4c35124",
    "tags": []
   },
   "outputs": [
    {
     "name": "stdout",
     "output_type": "stream",
     "text": [
      "Итерация    0: Шығын     0.96\n",
      "Итерация   10: Шығын     0.31\n",
      "Итерация   20: Шығын     0.31\n",
      "Итерация   30: Шығын     0.31\n",
      "Итерация   40: Шығын     0.31\n",
      "Итерация   50: Шығын     0.31\n",
      "Итерация   60: Шығын     0.31\n",
      "Итерация   70: Шығын     0.31\n",
      "Итерация   80: Шығын     0.31\n",
      "Итерация   90: Шығын     0.31\n",
      "Итерация   99: Шығын     0.31\n"
     ]
    }
   ],
   "source": [
    "np.random.seed(1)\n",
    "initial_w = 0.01 * (np.random.rand(2).reshape(-1,1) - 0.5)\n",
    "initial_b = -8\n",
    "\n",
    "\n",
    "# Кейбір градиент түсіру параметрлері\n",
    "iterations = 100\n",
    "alpha = 0.001\n",
    "\n",
    "w,b, J_history,_ = gradient_descent(X_train ,y_train, initial_w, initial_b,\n",
    "                                   compute_cost, compute_gradient, alpha, iterations, 0)"
   ]
  },
  {
   "cell_type": "code",
   "execution_count": 53,
   "metadata": {
    "colab": {
     "base_uri": "https://localhost:8080/",
     "height": 430
    },
    "id": "LjuRaq-26M11",
    "outputId": "4bb44ffd-27a8-4fa8-c408-feaefe5c6167",
    "tags": []
   },
   "outputs": [
    {
     "data": {
      "image/png": "[encoded data removed]",
      "text/plain": [
       "<Figure size 640x480 with 1 Axes>"
      ]
     },
     "metadata": {},
     "output_type": "display_data"
    }
   ],
   "source": [
    "plot_decision_boundary(w, b, X_train, y_train)"
   ]
  },
  {
   "cell_type": "markdown",
   "metadata": {
    "id": "duQlAaIW6M11"
   },
   "source": [
    "<a name='ex-04'></a>\n",
    "### 3-тапсырма\n",
    "\n",
    "`predict` функциясын аяқтаңыз, ол берілген деректер жинағы мен үйренген параметр векторлары $w$ және $b$ негізінде `1` немесе `0` болжамдарын шығарады.  \n",
    "- Алдымен, әрбір үлгі үшін модельдің болжамын есептеу керек:  \n",
    "  $$f(x^{(i)}) = g(w \\cdot x^{(i)})$$  \n",
    "  - Мұны сіз жоғарыдағы бөлімдерде жүзеге асырдыңыз.  \n",
    "- Модельдің шығысын ($f(x^{(i)})$) $x^{(i)}$ берілген кезде $y^{(i)}=1$ болуының ықтималдығы ретінде түсіндіреміз, мұнда параметрлер $w$ арқылы берілген.  \n",
    "- Сондықтан, логистикалық регрессия моделінен қорытынды болжамды ($y^{(i)}=0$ немесе $y^{(i)}=1$) алу үшін келесі эвристиканы қолдануға болады:  \n",
    "\n",
    "  Егер  \n",
    "  $$f(x^{(i)}) \\geq 0.5$$  \n",
    "  болса, онда $y^{(i)}=1$ деп болжау керек.  \n",
    "\n",
    "  Егер  \n",
    "  $$f(x^{(i)}) < 0.5$$  \n",
    "  болса, онда $y^{(i)}=0$ деп болжау керек.  \n",
    "\n",
    "Егер қиындық туындаса, төмендегі ұяшықтан кейін берілген кеңестерді қарастырып, іске асыруға көмектесе аласыз."
   ]
  },
  {
   "cell_type": "code",
   "execution_count": 60,
   "metadata": {
    "id": "pPp0KXvQ6M12",
    "tags": []
   },
   "outputs": [],
   "source": [
    "import numpy as np\n",
    "\n",
    "def predict(X, w, b):\n",
    "    \"\"\"\n",
    "    Логистикалық регрессия параметрлерін қолданып, 0 немесе 1 деп болжайды.\n",
    "\n",
    "    Аргументтер:\n",
    "    X : (ndarray Өлшемі (m, n))  Кіріс деректері\n",
    "    w : (array_like Өлшемі (n,))  Модель параметрлері\n",
    "    b : (скаляр, float)            Модельдің ығысу параметрі\n",
    "\n",
    "    Нәтиже:\n",
    "    p: (ndarray (m,))\n",
    "       0.5 шегіне негізделген болжамдар\n",
    "    \"\"\"\n",
    "\n",
    "    # 1. Сызықтық комбинацияны есептеу: z = w * X + b\n",
    "    z = np.dot(X, w) + b  \n",
    "\n",
    "    # 2. Сигмоид функциясын қолдану\n",
    "    f_wb = sigmoid(z)\n",
    "\n",
    "    # 3. Шекті 0.5 мәнімен салыстырып, 0 немесе 1 беру\n",
    "    p = (f_wb >= 0.5).astype(int)  \n",
    "\n",
    "    return p\n"
   ]
  },
  {
   "cell_type": "markdown",
   "metadata": {
    "id": "6qkTpv-Z6M12"
   },
   "source": [
    "Now let's use this to compute the accuracy on the training set"
   ]
  },
  {
   "cell_type": "code",
   "execution_count": 61,
   "metadata": {
    "colab": {
     "base_uri": "https://localhost:8080/"
    },
    "id": "2t1VMHcC6M12",
    "outputId": "fdab585b-a578-4a4d-8f4b-1fb3bb53f3b8",
    "tags": []
   },
   "outputs": [
    {
     "name": "stdout",
     "output_type": "stream",
     "text": [
      "Модельдің дәлдігі: 92.00%\n"
     ]
    }
   ],
   "source": [
    "def compute_accuracy(y_true, y_pred):\n",
    "    \"\"\"\n",
    "    Екілік классификация үшін дәлдікті (accuracy) есептейді.\n",
    "\n",
    "    Аргументтер:\n",
    "    y_true : (array_like, өлшемі (m,)) Нақты белгілер (0 немесе 1)\n",
    "    y_pred : (array_like, өлшемі (m,)) Болжанған белгілер (0 немесе 1)\n",
    "\n",
    "    Нәтиже:\n",
    "    accuracy : (float) Дәлдік, пайызбен (0-100%)\n",
    "    \"\"\"\n",
    "    y_true = np.array(y_true).flatten()\n",
    "    y_pred = np.array(y_pred).flatten()\n",
    "\n",
    "    # дәлдігін есептеу\n",
    "    accuracy = np.mean(y_true == y_pred) * 100\n",
    "    return accuracy\n",
    "\n",
    "# Қолдану мысалы\n",
    "# y_actual - нақты белгілер, y_predicted - модельдің болжамдары\n",
    "y_predicted = predict(X_train, w, b)\n",
    "\n",
    "# Ensure y_train is properly formatted\n",
    "y_train = np.array(y_train).flatten()\n",
    "\n",
    "accuracy = compute_accuracy(y_train, y_predicted)\n",
    "print(f\"Модельдің дәлдігі: {accuracy:.2f}%\")\n"
   ]
  },
  {
   "cell_type": "markdown",
   "metadata": {
    "id": "S8yUQbyzLXrK"
   },
   "source": [
    "2 емтиханнан 50, 50 алсам. қабылдана аламын ба?"
   ]
  },
  {
   "cell_type": "code",
   "execution_count": 64,
   "metadata": {
    "colab": {
     "base_uri": "https://localhost:8080/"
    },
    "id": "Ogh98Vve6M16",
    "outputId": "c18b8940-b02c-4bd0-c806-7222e62705a4",
    "tags": []
   },
   "outputs": [
    {
     "name": "stdout",
     "output_type": "stream",
     "text": [
      "2 емтиханнан 50, 50 алсам. қабылдау нәтижесі: [0]\n"
     ]
    }
   ],
   "source": [
    "import numpy as np\n",
    "\n",
    "# Берілген мысал\n",
    "example = np.array([50, 50]).reshape(1, -1)  # (1, n) өлшеміне келтіру\n",
    "\n",
    "# Модель көмегімен болжам жасау\n",
    "prediction = predict(example, w, b)\n",
    "\n",
    "# Нәтижені шығару\n",
    "print(f\"2 емтиханнан 50, 50 алсам. қабылдау нәтижесі: {prediction[0]}\")\n"
   ]
  },
  {
   "cell_type": "code",
   "execution_count": null,
   "metadata": {},
   "outputs": [],
   "source": []
  },
  {
   "cell_type": "code",
   "execution_count": null,
   "metadata": {},
   "outputs": [],
   "source": []
  }
 ],
 "metadata": {
  "colab": {
   "provenance": []
  },
  "kernelspec": {
   "display_name": "Python 3 (ipykernel)",
   "language": "python",
   "name": "python3"
  },
  "language_info": {
   "codemirror_mode": {
    "name": "ipython",
    "version": 3
   },
   "file_extension": ".py",
   "mimetype": "text/x-python",
   "name": "python",
   "nbconvert_exporter": "python",
   "pygments_lexer": "ipython3",
   "version": "3.11.5"
  }
 },
 "nbformat": 4,
 "nbformat_minor": 4
}
